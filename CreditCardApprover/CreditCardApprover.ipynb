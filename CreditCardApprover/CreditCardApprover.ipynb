{
 "cells": [
  {
   "cell_type": "code",
   "execution_count": 1,
   "id": "97d92379",
   "metadata": {},
   "outputs": [],
   "source": [
    "import pandas\n",
    "import numpy\n",
    "from sklearn.model_selection import train_test_split\n",
    "from sklearn.preprocessing import StandardScaler\n",
    "from sklearn.ensemble import RandomForestClassifier\n",
    "from sklearn.metrics import classification_report, confusion_matrix, accuracy_score\n",
    "import ipywidgets as ipy\n",
    "from datetime import date\n",
    "import decimal\n",
    "import seaborn"
   ]
  },
  {
   "cell_type": "code",
   "execution_count": 2,
   "id": "6a5ac5a9",
   "metadata": {},
   "outputs": [],
   "source": [
    "dataset = pandas.read_csv(r\"AER_credit_card_data.csv\")\n",
    "datasetClean = dataset.replace(to_replace = ['yes','no'],value = ['1','0'])"
   ]
  },
  {
   "cell_type": "code",
   "execution_count": 3,
   "id": "beb4fff3",
   "metadata": {},
   "outputs": [
    {
     "name": "stdout",
     "output_type": "stream",
     "text": [
      "First, let's visualize the data that will train our model in a few ways.\n"
     ]
    },
    {
     "data": {
      "application/vnd.jupyter.widget-view+json": {
       "model_id": "9ddef0e3bac34decaff96fbb66bad0f8",
       "version_major": 2,
       "version_minor": 0
      },
      "text/plain": [
       "interactive(children=(Dropdown(description='Visualization', options=('Homeowner Approval', 'Reports Approval',…"
      ]
     },
     "metadata": {},
     "output_type": "display_data"
    },
    {
     "name": "stdout",
     "output_type": "stream",
     "text": [
      " \n"
     ]
    }
   ],
   "source": [
    "print(\"First, let's visualize the data that will train our model in a few ways.\")\n",
    "\n",
    "def selectVisual(Visualization):\n",
    "    if(Visualization == 'Homeowner Approval'):\n",
    "        g = seaborn.countplot(data=dataset, x = \"owner\", hue = \"card\")\n",
    "        display(g)\n",
    "        print(\"The chart below shows that, based on the data, people that do not own homes are more likely to be declined a \"\n",
    "              \"new credit card.\")\n",
    "    elif(Visualization == 'Reports Approval'):\n",
    "        g = seaborn.stripplot(data=dataset, x = \"reports\", y = \"card\")\n",
    "        display(g)\n",
    "        print(\"The chart below shows that a cusotomer with more derogatory reports is likely to be declined a new credit card.\")\n",
    "    else:\n",
    "        g = seaborn.boxenplot(data=dataset, x = \"card\", y = \"income\")\n",
    "        display(g)\n",
    "        print(\"The chart below shows a very slight bias towards approving customers with higher incomes.\")\n",
    "ipy.interact(selectVisual, Visualization=['Homeowner Approval', 'Reports Approval', 'Income Approval'])\n",
    "\n",
    "print(\" \")"
   ]
  },
  {
   "cell_type": "code",
   "execution_count": 4,
   "id": "cd884ef1",
   "metadata": {},
   "outputs": [],
   "source": [
    "labels = datasetClean.iloc[:, 0].values\n",
    "attributes = datasetClean.iloc[:, 1:12].values"
   ]
  },
  {
   "cell_type": "code",
   "execution_count": 5,
   "id": "1db3095b",
   "metadata": {},
   "outputs": [],
   "source": [
    "X_train, X_test, y_train, y_test = train_test_split(attributes, labels, test_size=0.25, random_state=0)"
   ]
  },
  {
   "cell_type": "code",
   "execution_count": 6,
   "id": "a37890e3",
   "metadata": {},
   "outputs": [],
   "source": [
    "sc = StandardScaler()\n",
    "X_train = sc.fit_transform(X_train)\n",
    "X_test = sc.transform(X_test)"
   ]
  },
  {
   "cell_type": "code",
   "execution_count": 7,
   "id": "6d4a8272",
   "metadata": {},
   "outputs": [],
   "source": [
    "classifier = RandomForestClassifier(n_estimators=16, random_state=0)\n",
    "classifier.fit(X_train, y_train)\n",
    "y_pred = classifier.predict(X_test)"
   ]
  },
  {
   "cell_type": "code",
   "execution_count": 8,
   "id": "9024d224",
   "metadata": {},
   "outputs": [
    {
     "name": "stdout",
     "output_type": "stream",
     "text": [
      "              precision    recall  f1-score   support\n",
      "\n",
      "           0       0.93      1.00      0.96        67\n",
      "           1       1.00      0.98      0.99       263\n",
      "\n",
      "    accuracy                           0.98       330\n",
      "   macro avg       0.97      0.99      0.98       330\n",
      "weighted avg       0.99      0.98      0.99       330\n",
      "\n",
      "0.9848484848484849\n"
     ]
    }
   ],
   "source": [
    "print(classification_report(y_test,y_pred))\n",
    "print(accuracy_score(y_test, y_pred))"
   ]
  },
  {
   "cell_type": "code",
   "execution_count": 9,
   "id": "c4f58db2",
   "metadata": {
    "scrolled": false
   },
   "outputs": [
    {
     "name": "stdout",
     "output_type": "stream",
     "text": [
      "Enter the number of major derogatory reports for the customer below.\n"
     ]
    },
    {
     "data": {
      "application/vnd.jupyter.widget-view+json": {
       "model_id": "8342a31605544144a7dffef4cf733821",
       "version_major": 2,
       "version_minor": 0
      },
      "text/plain": [
       "Text(value='', description='Reports:', placeholder='Enter the number of reports...')"
      ]
     },
     "metadata": {},
     "output_type": "display_data"
    },
    {
     "name": "stdout",
     "output_type": "stream",
     "text": [
      "Select the customer's birth month and birth year below.\n"
     ]
    },
    {
     "data": {
      "application/vnd.jupyter.widget-view+json": {
       "model_id": "77925f94a87d47ddad3a2d59ea39d571",
       "version_major": 2,
       "version_minor": 0
      },
      "text/plain": [
       "HBox(children=(Dropdown(description='Birth Month:', options=('January', 'February', 'March', 'April', 'May', '…"
      ]
     },
     "metadata": {},
     "output_type": "display_data"
    },
    {
     "name": "stdout",
     "output_type": "stream",
     "text": [
      "Enter the customer's yearly income as a whole dollar value below.\n"
     ]
    },
    {
     "data": {
      "application/vnd.jupyter.widget-view+json": {
       "model_id": "61621d45f5c54aad94aca4d230319a35",
       "version_major": 2,
       "version_minor": 0
      },
      "text/plain": [
       "Text(value='', description='Income:', placeholder='Enter a dollar value...')"
      ]
     },
     "metadata": {},
     "output_type": "display_data"
    },
    {
     "name": "stdout",
     "output_type": "stream",
     "text": [
      "Enter the customer's average monthly credit card expenditure below.\n"
     ]
    },
    {
     "data": {
      "application/vnd.jupyter.widget-view+json": {
       "model_id": "f91212686cd64f008c0985cc346e22af",
       "version_major": 2,
       "version_minor": 0
      },
      "text/plain": [
       "Text(value='', description='Expenditure:', placeholder='Enter average monthly cc expenditure...')"
      ]
     },
     "metadata": {},
     "output_type": "display_data"
    },
    {
     "name": "stdout",
     "output_type": "stream",
     "text": [
      "Select whether the customer is a home owner and whether the customer is self employed below.\n"
     ]
    },
    {
     "data": {
      "application/vnd.jupyter.widget-view+json": {
       "model_id": "64cdd254578a49039f422ecbbf26d1a0",
       "version_major": 2,
       "version_minor": 0
      },
      "text/plain": [
       "interactive(children=(Dropdown(description='Homeowner', options=('Yes', 'No'), value='Yes'), Output()), _dom_c…"
      ]
     },
     "metadata": {},
     "output_type": "display_data"
    },
    {
     "data": {
      "application/vnd.jupyter.widget-view+json": {
       "model_id": "f3ce7d21026f48bf8bb8627f688751bf",
       "version_major": 2,
       "version_minor": 0
      },
      "text/plain": [
       "interactive(children=(Dropdown(description='Selfemployed', options=('Yes', 'No'), value='Yes'), Output()), _do…"
      ]
     },
     "metadata": {},
     "output_type": "display_data"
    },
    {
     "name": "stdout",
     "output_type": "stream",
     "text": [
      "Enter the customer's number of dependents below.\n"
     ]
    },
    {
     "data": {
      "application/vnd.jupyter.widget-view+json": {
       "model_id": "e0aa2e73b2e342e2ad84758bce347b59",
       "version_major": 2,
       "version_minor": 0
      },
      "text/plain": [
       "Text(value='', description='Dependents:', placeholder='Enter the number of dependents...')"
      ]
     },
     "metadata": {},
     "output_type": "display_data"
    },
    {
     "name": "stdout",
     "output_type": "stream",
     "text": [
      "Enter the number of months the customer has lived at their current address below.\n"
     ]
    },
    {
     "data": {
      "application/vnd.jupyter.widget-view+json": {
       "model_id": "c372d91408bc429ea5b512b49b460918",
       "version_major": 2,
       "version_minor": 0
      },
      "text/plain": [
       "Text(value='', description='Months:', placeholder='Enter months at address...')"
      ]
     },
     "metadata": {},
     "output_type": "display_data"
    },
    {
     "name": "stdout",
     "output_type": "stream",
     "text": [
      "Enter the number of major credit cards held by the customer below.\n"
     ]
    },
    {
     "data": {
      "application/vnd.jupyter.widget-view+json": {
       "model_id": "28db1c6c4d0348a5ba5d62cc6cb34a13",
       "version_major": 2,
       "version_minor": 0
      },
      "text/plain": [
       "Text(value='', description='Major Cards:', placeholder='Enter number of major CCs...')"
      ]
     },
     "metadata": {},
     "output_type": "display_data"
    },
    {
     "name": "stdout",
     "output_type": "stream",
     "text": [
      "Enter the customer's number of active credit accounts below.\n"
     ]
    },
    {
     "data": {
      "application/vnd.jupyter.widget-view+json": {
       "model_id": "a36abe9e18b34757a360fbb4f5bb8fd0",
       "version_major": 2,
       "version_minor": 0
      },
      "text/plain": [
       "Text(value='', description='Accounts:', placeholder='Enter number of accounts...')"
      ]
     },
     "metadata": {},
     "output_type": "display_data"
    },
    {
     "data": {
      "application/vnd.jupyter.widget-view+json": {
       "model_id": "9a1d98a8e4b648acb3fae1c52950f5fc",
       "version_major": 2,
       "version_minor": 0
      },
      "text/plain": [
       "VBox(children=(Button(description='Submit Application', style=ButtonStyle()), Output()))"
      ]
     },
     "metadata": {},
     "output_type": "display_data"
    }
   ],
   "source": [
    "reportsText=ipy.Text(placeholder='Enter the number of reports...', description='Reports:')\n",
    "print(\"Enter the number of major derogatory reports for the customer below.\")\n",
    "display(reportsText)\n",
    "\n",
    "months = ['January', 'February', 'March', 'April', 'May', 'June', 'July',\n",
    "          'August', 'September', 'October', 'November', 'December']\n",
    "\n",
    "birthMonDrop = ipy.Dropdown(options=months, description=\"Birth Month:\",)\n",
    "\n",
    "years = []\n",
    "thisYear = date.today().year\n",
    "yearsToInclude = 124\n",
    "while(yearsToInclude > 0):\n",
    "    years.append(str(thisYear))\n",
    "    thisYear -= 1\n",
    "    yearsToInclude -= 1\n",
    "\n",
    "\n",
    "birthYearDrop = ipy.Dropdown(options=years, description=\"Birth Year:\")\n",
    "\n",
    "print(\"Select the customer's birth month and birth year below.\")\n",
    "\n",
    "ui = ipy.HBox([birthMonDrop, birthYearDrop])\n",
    "\n",
    "display(ui)\n",
    "\n",
    "print(\"Enter the customer's yearly income as a whole dollar value below.\")\n",
    "\n",
    "incomeText=ipy.Text(placeholder='Enter a dollar value...', description='Income:')\n",
    "display(incomeText)\n",
    "\n",
    "print(\"Enter the customer's average monthly credit card expenditure below.\")\n",
    "\n",
    "expenText=ipy.Text(placeholder='Enter average monthly cc expenditure...', description='Expenditure:')\n",
    "display(expenText)\n",
    "\n",
    "print(\"Select whether the customer is a home owner and whether the customer is self employed below.\")\n",
    "\n",
    "homeowner = ''\n",
    "selfemployed = ''\n",
    "\n",
    "def myfunction(Homeowner):\n",
    "    global homeowner\n",
    "    homeowner = Homeowner\n",
    "ipy.interact(myfunction, Homeowner=['Yes','No'])\n",
    "\n",
    "def myfunctiontwo(Selfemployed): \n",
    "    global selfemployed\n",
    "    selfemployed = Selfemployed\n",
    "ipy.interact(myfunctiontwo, Selfemployed=['Yes','No'])\n",
    "\n",
    "print(\"Enter the customer's number of dependents below.\")\n",
    "\n",
    "depenText=ipy.Text(placeholder='Enter the number of dependents...', description='Dependents:')\n",
    "display(depenText)\n",
    "\n",
    "print(\"Enter the number of months the customer has lived at their current address below.\")\n",
    "\n",
    "monthText=ipy.Text(placeholder='Enter months at address...', description='Months:')\n",
    "display(monthText)\n",
    "\n",
    "print(\"Enter the number of major credit cards held by the customer below.\")\n",
    "\n",
    "majorText=ipy.Text(placeholder='Enter number of major CCs...', description='Major Cards:')\n",
    "display(majorText)\n",
    "\n",
    "print(\"Enter the customer's number of active credit accounts below.\")\n",
    "\n",
    "activeText=ipy.Text(placeholder='Enter number of accounts...', description='Accounts:')\n",
    "display(activeText)\n",
    "\n",
    "def is_integer(n):\n",
    "    try:\n",
    "        float(n)\n",
    "    except ValueError:\n",
    "        return False\n",
    "    else:\n",
    "        return float(n).is_integer()\n",
    "    \n",
    "def is_float(n):\n",
    "    try:\n",
    "        float(n)\n",
    "        return True\n",
    "    except ValueError:\n",
    "        return False\n",
    "    \n",
    "def getAge(month: str, year: int):\n",
    "    monNum = months.index(month) + 1\n",
    "    currentMonth = date.today().month\n",
    "    currentYear = date.today().year\n",
    "    if(currentMonth == monNum):\n",
    "        return decimal.Decimal(currentYear - year)\n",
    "    if(currentMonth < monNum):\n",
    "        return decimal.Decimal(currentYear - (year + 1)) + (decimal.Decimal(12 - (monNum - currentMonth)) / decimal.Decimal(12))\n",
    "    else:\n",
    "        return decimal.Decimal(currentYear - year) + (decimal.Decimal(currentMonth - monNum) / decimal.Decimal(12))\n",
    "    \n",
    "\n",
    "\n",
    "button = ipy.Button(description='Submit Application')\n",
    "out = ipy.Output()\n",
    "def on_button_clicked(_):\n",
    "      with out:\n",
    "            out.clear_output()\n",
    "            report = reportsText.value\n",
    "            if(is_integer(report)):\n",
    "                if(int(report) < 0):\n",
    "                    print('\\'Reports:\\' text box must contain a positive integer.')\n",
    "                    return\n",
    "                else:\n",
    "                    report = int(report)\n",
    "            else:\n",
    "                print('\\'Reports:\\' text box must contain a positive integer.')\n",
    "                return\n",
    "            \n",
    "            age = getAge(birthMonDrop.value, int(birthYearDrop.value))\n",
    "            \n",
    "            if(age < 0):\n",
    "                print('Invalid age. Customer must be born.')\n",
    "                return\n",
    "            \n",
    "            income = incomeText.value\n",
    "            if(is_integer(income)):\n",
    "                if(int(income) < 0):\n",
    "                    print('\\'Income:\\' text box must contain a positive integer.')\n",
    "                    return\n",
    "                else:\n",
    "                    income = decimal.Decimal(income) / decimal.Decimal(10000)\n",
    "            else:\n",
    "                print('\\'Income:\\' text box must contain a positive integer.')\n",
    "                return\n",
    "            \n",
    "            expend = expenText.value\n",
    "            if(is_float(expend)):\n",
    "                if(decimal.Decimal(expend) < 0):\n",
    "                    print('\\'Expenditure:\\' text box must contain a positive number.')\n",
    "                    return\n",
    "                else:\n",
    "                    expend = decimal.Decimal(expend)\n",
    "            else:\n",
    "                print('\\'Expenditure:\\' text box must contain a positive number.')\n",
    "                return\n",
    "            \n",
    "            if(income < 1):\n",
    "                share = 0.0\n",
    "            else:\n",
    "                share = (decimal.Decimal(expend) * decimal.Decimal(12)) / (decimal.Decimal(income) * decimal.Decimal(10000))\n",
    "            \n",
    "            depend = depenText.value\n",
    "            if(is_integer(depend)):\n",
    "                if(int(depend) < 0):\n",
    "                    print('\\'Dependents:\\' text box must contain a positive integer.')\n",
    "                    return\n",
    "                else:\n",
    "                    depend = int(depend)\n",
    "            else:\n",
    "                print('\\'Dependents:\\' text box must contain a positive integer.')\n",
    "                return\n",
    "            \n",
    "            month = monthText.value\n",
    "            if(is_integer(month)):\n",
    "                if(int(month) < 0):\n",
    "                    print('\\'Months:\\' text box must contain a positive integer.')\n",
    "                    return\n",
    "                else:\n",
    "                    month = int(month)\n",
    "            else:\n",
    "                print('\\'Months:\\' text box must contain a positive integer.')\n",
    "                return\n",
    "            \n",
    "            cards = majorText.value\n",
    "            if(is_integer(cards)):\n",
    "                if(int(cards) < 0):\n",
    "                    print('\\'Major Cards:\\' text box must contain a positive integer.')\n",
    "                    return\n",
    "                else:\n",
    "                    cards = int(cards)\n",
    "            else:\n",
    "                print('\\'Major Cards:\\' text box must contain a positive integer.')\n",
    "                return\n",
    "            \n",
    "            accounts = activeText.value\n",
    "            if(is_integer(accounts)):\n",
    "                if(int(accounts) < 0):\n",
    "                    print('\\'Accounts:\\' text box must contain a positive integer.')\n",
    "                    return\n",
    "                else:\n",
    "                    accounts = int(accounts)\n",
    "            else:\n",
    "                print('\\'Accounts:\\' text box must contain a positive integer.')\n",
    "                return\n",
    "            \n",
    "            global homeowner\n",
    "            global selfemployed\n",
    "            \n",
    "            if(homeowner == 'Yes' or homeowner == '1'):\n",
    "                homeowner = '1'\n",
    "            else:\n",
    "                homeowner = '0'\n",
    "                \n",
    "            if(selfemployed == 'Yes' or selfemployed == '1'):\n",
    "                selfemployed = '1'\n",
    "            else:\n",
    "                selfemployed = '0'\n",
    "            \n",
    "            result = [report, age, income, share, expend, homeowner, selfemployed, depend, month, cards, accounts]\n",
    "            X_test = [result]\n",
    "            X_test = sc.transform(X_test)\n",
    "            approval = classifier.predict(X_test)\n",
    "            if(approval == '1'):\n",
    "                print('Credit Card Application has been approved.')\n",
    "            else:\n",
    "                print('Credit Card Application has been denied.')\n",
    "button.on_click(on_button_clicked)\n",
    "ipy.VBox([button,out])\n"
   ]
  }
 ],
 "metadata": {
  "kernelspec": {
   "display_name": "Python 3 (ipykernel)",
   "language": "python",
   "name": "python3"
  },
  "language_info": {
   "codemirror_mode": {
    "name": "ipython",
    "version": 3
   },
   "file_extension": ".py",
   "mimetype": "text/x-python",
   "name": "python",
   "nbconvert_exporter": "python",
   "pygments_lexer": "ipython3",
   "version": "3.9.12"
  }
 },
 "nbformat": 4,
 "nbformat_minor": 5
}
